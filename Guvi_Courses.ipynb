{
 "cells": [
  {
   "cell_type": "code",
   "execution_count": 2,
   "id": "9f6a243e-0aa8-4372-bffb-a5533f2681c6",
   "metadata": {},
   "outputs": [
    {
     "name": "stdout",
     "output_type": "stream",
     "text": [
      "There are 12 columns which are:\n",
      "course_id\n",
      "course_title\n",
      "url\n",
      "price\n",
      "num_subscribers\n",
      "num_reviews\n",
      "num_lectures\n",
      "level\n",
      "Rating\n",
      "content_duration\n",
      "published_timestamp\n",
      "subject\n"
     ]
    }
   ],
   "source": [
    "import pandas as pd\n",
    "\n",
    "df=pd.read_csv(\"C:/Users/Dhanesh/Downloads/Final_Project/guvi_courses.csv\")\n",
    "\n",
    "print(\"There are\",len(df.columns),\"columns which are:\") #,df.columns)\n",
    "for each in df.columns:\n",
    "    print(each)"
   ]
  },
  {
   "cell_type": "code",
   "execution_count": 3,
   "id": "62700942-9b1a-43ce-b01e-048d39504d77",
   "metadata": {},
   "outputs": [
    {
     "name": "stdout",
     "output_type": "stream",
     "text": [
      "There are 8 columns left out which are:\n",
      "price\n",
      "num_subscribers\n",
      "num_reviews\n",
      "num_lectures\n",
      "level\n",
      "Rating\n",
      "content_duration\n",
      "subject\n"
     ]
    }
   ],
   "source": [
    "#Dropping columns which dont affect ratings of a user\n",
    "df.drop(['course_id','course_title','url','published_timestamp'],axis=1,inplace=True)\n",
    "print(\"There are\",len(df.columns),\"columns left out which are:\") #,df.columns)\n",
    "for each in df.columns:\n",
    "    print(each)"
   ]
  },
  {
   "cell_type": "code",
   "execution_count": 4,
   "id": "1c0c40fa-f655-489a-b0a1-6d6aa8355511",
   "metadata": {},
   "outputs": [
    {
     "name": "stdout",
     "output_type": "stream",
     "text": [
      "<class 'pandas.core.frame.DataFrame'>\n",
      "RangeIndex: 3680 entries, 0 to 3679\n",
      "Data columns (total 8 columns):\n",
      " #   Column            Non-Null Count  Dtype  \n",
      "---  ------            --------------  -----  \n",
      " 0   price             3676 non-null   float64\n",
      " 1   num_subscribers   3676 non-null   float64\n",
      " 2   num_reviews       3676 non-null   float64\n",
      " 3   num_lectures      3676 non-null   float64\n",
      " 4   level             3676 non-null   object \n",
      " 5   Rating            3676 non-null   float64\n",
      " 6   content_duration  3676 non-null   float64\n",
      " 7   subject           3677 non-null   object \n",
      "dtypes: float64(6), object(2)\n",
      "memory usage: 230.1+ KB\n",
      "None\n"
     ]
    }
   ],
   "source": [
    "print(df.info())"
   ]
  },
  {
   "cell_type": "code",
   "execution_count": 5,
   "id": "c47d23cf-1d8d-4ac4-8ba4-dc8c4542589b",
   "metadata": {},
   "outputs": [
    {
     "name": "stdout",
     "output_type": "stream",
     "text": [
      "number of nulls: price               4\n",
      "num_subscribers     4\n",
      "num_reviews         4\n",
      "num_lectures        4\n",
      "level               4\n",
      "Rating              4\n",
      "content_duration    4\n",
      "subject             3\n",
      "dtype: int64\n"
     ]
    }
   ],
   "source": [
    "print(\"number of nulls:\",df.isnull().sum())"
   ]
  },
  {
   "cell_type": "code",
   "execution_count": 6,
   "id": "bb8f6a79-d7a1-4c5a-8f3f-47ab358c6d4f",
   "metadata": {},
   "outputs": [],
   "source": [
    "#There are just 4 null rows so dropping them as it wont affect our data significantly\"\n",
    "df.dropna(axis=0,inplace=True)"
   ]
  },
  {
   "cell_type": "code",
   "execution_count": 7,
   "id": "4e11aa0a-84fa-4984-ab9f-59e3a08921d2",
   "metadata": {},
   "outputs": [
    {
     "name": "stdout",
     "output_type": "stream",
     "text": [
      "Now the total number of nulls in our df are: 0\n"
     ]
    }
   ],
   "source": [
    "print(\"Now the total number of nulls in our df are:\",df.isnull().sum().sum())"
   ]
  },
  {
   "cell_type": "code",
   "execution_count": 8,
   "id": "26b274b0-b257-4dd7-bd13-dfa822ff87fb",
   "metadata": {},
   "outputs": [],
   "source": [
    "#As the level and subject columns are text based, lets encode them\n",
    "\n",
    "from sklearn.preprocessing import LabelEncoder\n",
    "\n",
    "label_encoder = LabelEncoder()\n",
    "df['level'] = label_encoder.fit_transform(df['level'])\n",
    "df['subject'] = label_encoder.fit_transform(df['subject'])\n"
   ]
  },
  {
   "cell_type": "code",
   "execution_count": 9,
   "id": "1f54a028-0f92-44a2-8066-9e0cf06fd711",
   "metadata": {},
   "outputs": [
    {
     "name": "stdout",
     "output_type": "stream",
     "text": [
      "   price  num_subscribers  num_reviews  num_lectures  level  Rating  content_duration  subject\n",
      "0    0.0         268923.0       8629.0          45.0      1    0.82              10.5        3\n",
      "1    0.0         161029.0        279.0          27.0      2    0.69               3.5        3\n",
      "2  200.0         121584.0      27445.0         342.0      1    0.89              43.0        3\n",
      "3    0.0         120291.0       5924.0          30.0      0    0.78               3.0        3\n",
      "4  200.0         114512.0      22412.0         304.0      1    0.55              30.5        3\n"
     ]
    }
   ],
   "source": [
    "#\"Let's have a look at out dataframe\"\n",
    "print(df.head().to_string())"
   ]
  },
  {
   "cell_type": "code",
   "execution_count": 10,
   "id": "29c0450b-3029-4155-acce-3e4d35fb24e5",
   "metadata": {},
   "outputs": [
    {
     "name": "stdout",
     "output_type": "stream",
     "text": [
      "      price  num_subscribers  num_reviews  num_lectures  level  Rating  content_duration  subject\n",
      "3675   20.0              0.0          0.0          23.0      0    0.31          1.500000        2\n",
      "3676  125.0              0.0          0.0           7.0      1    0.06          0.633333        2\n",
      "3677   20.0              0.0          0.0           6.0      0    0.08          0.533333        2\n",
      "3678   35.0              0.0          0.0          13.0      1    0.78          0.516667        2\n",
      "3679   20.0              0.0          0.0          28.0      0    0.01          2.500000        2\n"
     ]
    }
   ],
   "source": [
    "print(df.tail().to_string())"
   ]
  },
  {
   "cell_type": "code",
   "execution_count": 11,
   "id": "ba7fb756-d1ba-4d01-93d3-194bf418ba66",
   "metadata": {},
   "outputs": [
    {
     "data": {
      "image/png": "[encoded data removed]",
      "text/plain": [
       "<Figure size 640x480 with 1 Axes>"
      ]
     },
     "metadata": {},
     "output_type": "display_data"
    },
    {
     "data": {
      "text/plain": [
       "Text(0.5, 1.0, 'Feature: num_lectures: Upper outliers detected here')"
      ]
     },
     "execution_count": 11,
     "metadata": {},
     "output_type": "execute_result"
    },
    {
     "data": {
      "image/png": "[encoded data removed]",
      "text/plain": [
       "<Figure size 640x480 with 1 Axes>"
      ]
     },
     "metadata": {},
     "output_type": "display_data"
    }
   ],
   "source": [
    "#------------------------------outlier starts here--------------------------------------------------\n",
    "\n",
    "import seaborn as sns\n",
    "import matplotlib.pyplot as plt\n",
    "sns.boxplot(df['price'])\n",
    "plt.title('Feature: Price: No outliers detected here')\n",
    "plt.show()\n",
    "sns.boxplot(df['num_lectures'])\n",
    "plt.title('Feature: num_lectures: Upper outliers detected here')"
   ]
  },
  {
   "cell_type": "code",
   "execution_count": 13,
   "id": "7be926fc-0e97-4872-b48c-6421b38b1a66",
   "metadata": {},
   "outputs": [
    {
     "data": {
      "text/plain": [
       "Text(0.5, 1.0, 'Feature: content_duration: outliers detected here but we choose to keep them as course duration can change as is requirement')"
      ]
     },
     "execution_count": 13,
     "metadata": {},
     "output_type": "execute_result"
    },
    {
     "data": {
      "image/png": "[encoded data removed]",
      "text/plain": [
       "<Figure size 640x480 with 1 Axes>"
      ]
     },
     "metadata": {},
     "output_type": "display_data"
    }
   ],
   "source": [
    "plt.show()\n",
    "sns.boxplot(df['content_duration'])\n",
    "plt.title('Feature: content_duration: outliers detected '\n",
    "          'here but we choose to keep them as course duration can change as is requirement')\n"
   ]
  },
  {
   "cell_type": "code",
   "execution_count": 14,
   "id": "196b8dd9-c89d-40f5-8faf-885cc3025d24",
   "metadata": {},
   "outputs": [
    {
     "name": "stdout",
     "output_type": "stream",
     "text": [
      "lower bound bound:\n"
     ]
    }
   ],
   "source": [
    "import numpy as np\n",
    "Q1=np.percentile(df['num_lectures'],25)\n",
    "Q3=np.percentile(df['num_lectures'],75)\n",
    "IQR=Q3-Q1\n",
    "upper= df['num_lectures']>=(Q3+1.5*IQR)\n",
    "upper_outliers_index=np.where(upper)\n",
    "lower= df['num_lectures']<=(Q1-1.5*IQR)\n",
    "print(\"lower bound bound:\")\n",
    "lower_outliers_index=np.where(lower)"
   ]
  },
  {
   "cell_type": "code",
   "execution_count": 15,
   "id": "d9c9fcee-e1a8-4b82-9ab2-9d188aa665dc",
   "metadata": {},
   "outputs": [],
   "source": [
    "#dropping upper outliers from no. of lectures now\"\n",
    "for each in upper_outliers_index:\n",
    "    df.drop(each,inplace=True)"
   ]
  },
  {
   "cell_type": "code",
   "execution_count": 16,
   "id": "94e8e9a3-0c7b-447c-ae62-51c308cc2354",
   "metadata": {},
   "outputs": [],
   "source": [
    "#-------------------------collinearity starts here---------------------\n",
    "import pandas as pd\n",
    "import statsmodels.api as sm\n",
    "from statsmodels.stats.outliers_influence import variance_inflation_factor"
   ]
  },
  {
   "cell_type": "code",
   "execution_count": 17,
   "id": "2188daef-fc86-4fe6-8f3f-c778f0a77e9f",
   "metadata": {},
   "outputs": [],
   "source": [
    "#Now checking for collinearity\n",
    "X = df[['price', 'num_subscribers', 'num_reviews','num_lectures','level',\n",
    "        'content_duration','subject']]\n",
    "\n",
    "X = sm.add_constant(X)"
   ]
  },
  {
   "cell_type": "code",
   "execution_count": 18,
   "id": "a4e401d7-5e19-4748-8b83-90b5d1bae900",
   "metadata": {},
   "outputs": [
    {
     "name": "stdout",
     "output_type": "stream",
     "text": [
      "           Variable       VIF\n",
      "0             const  4.280633\n",
      "1             price  1.093276\n",
      "2   num_subscribers  1.867162\n",
      "3       num_reviews  1.842912\n",
      "4      num_lectures  2.657797\n",
      "5             level  1.001271\n",
      "6  content_duration  2.570603\n",
      "7           subject  1.060585\n"
     ]
    }
   ],
   "source": [
    "vif = pd.DataFrame()\n",
    "vif[\"Variable\"] = X.columns\n",
    "vif[\"VIF\"] = [variance_inflation_factor(X.values, i) for i in range(X.shape[1])]\n",
    "\n",
    "print(vif)"
   ]
  },
  {
   "cell_type": "code",
   "execution_count": 24,
   "id": "cf870ee7-e554-48fe-a3f2-1b03c54138f0",
   "metadata": {},
   "outputs": [
    {
     "name": "stdout",
     "output_type": "stream",
     "text": [
      "Collecting xgboostNote: you may need to restart the kernel to use updated packages.\n",
      "\n",
      "  Downloading xgboost-2.0.0-py3-none-win_amd64.whl (99.7 MB)\n",
      "Requirement already satisfied: numpy in c:\\users\\dhanesh\\appdata\\local\\programs\\python\\python38\\lib\\site-packages (from xgboost) (1.24.4)\n",
      "Requirement already satisfied: scipy in c:\\users\\dhanesh\\appdata\\local\\programs\\python\\python38\\lib\\site-packages (from xgboost) (1.10.1)\n",
      "Installing collected packages: xgboost\n",
      "Successfully installed xgboost-2.0.0\n"
     ]
    },
    {
     "name": "stderr",
     "output_type": "stream",
     "text": [
      "WARNING: You are using pip version 20.2.1; however, version 23.3 is available.\n",
      "You should consider upgrading via the 'c:\\users\\dhanesh\\appdata\\local\\programs\\python\\python38\\python.exe -m pip install --upgrade pip' command.\n"
     ]
    }
   ],
   "source": [
    "pip install xgboost\n"
   ]
  },
  {
   "cell_type": "code",
   "execution_count": 19,
   "id": "3c63593f-aa11-4129-b812-ec783479343e",
   "metadata": {},
   "outputs": [
    {
     "name": "stdout",
     "output_type": "stream",
     "text": [
      "Mean Squared Error in XGBoost Regression: 0.11742584802394608\n"
     ]
    }
   ],
   "source": [
    "#\"Let's try xgboost for our model\"\n",
    "import xgboost as xgb\n",
    "\n",
    "from sklearn.model_selection import train_test_split\n",
    "\n",
    "from sklearn.metrics import mean_squared_error, r2_score\n",
    "\n",
    "# Define features (X) and target variable (y)\n",
    "X = df[['price', 'num_subscribers', 'num_reviews', 'num_lectures', 'content_duration']]\n",
    "y = df['Rating']\n",
    "\n",
    "# Split the data into training and testing sets\n",
    "X_train, X_test, y_train, y_test = train_test_split(X, y, test_size=0.2)  # , random_state=42)\n",
    "\n",
    "# Create an XGBoost regressor object\n",
    "model = xgb.XGBRegressor()\n",
    "\n",
    "# Fit the model on the training data\n",
    "model.fit(X_train, y_train)\n",
    "\n",
    "# Make predictions on the test data\n",
    "predictions = model.predict(X_test)\n",
    "\n",
    "# Evaluate the regression model\n",
    "mse = mean_squared_error(y_test, predictions)\n",
    "print(\"Mean Squared Error in XGBoost Regression:\", mse)\n"
   ]
  },
  {
   "cell_type": "code",
   "execution_count": 20,
   "id": "3ec7dc62-3776-4e50-b2a8-d0961301c375",
   "metadata": {},
   "outputs": [],
   "source": [
    "# level and subject dropped here-------------\n",
    "df.drop(['level','subject'],axis=1,inplace=True)"
   ]
  },
  {
   "cell_type": "code",
   "execution_count": 21,
   "id": "27011bcf-cd5f-4d21-8148-88119135cabd",
   "metadata": {},
   "outputs": [
    {
     "name": "stdout",
     "output_type": "stream",
     "text": [
      "Mean Squared Error in k-nn is: 0.10868174298375184\n"
     ]
    }
   ],
   "source": [
    "#let's try K-nn this time:\"\n",
    "\n",
    "from sklearn.neighbors import KNeighborsRegressor\n",
    "from sklearn.model_selection import train_test_split\n",
    "from sklearn.metrics import mean_squared_error\n",
    "\n",
    "X = df[['price', 'num_subscribers', 'num_reviews','num_lectures',\n",
    "        'content_duration']]\n",
    "y = df['Rating']\n",
    "X_train, X_test, y_train, y_test = train_test_split(X, y, test_size=0.2, random_state=42)\n",
    "knn_regressor = KNeighborsRegressor(n_neighbors=5)\n",
    "knn_regressor.fit(X_train, y_train)\n",
    "y_pred = knn_regressor.predict(X_test)\n",
    "mse = mean_squared_error(y_test, y_pred)\n",
    "print(\"Mean Squared Error in k-nn is:\", mse)"
   ]
  },
  {
   "cell_type": "code",
   "execution_count": 22,
   "id": "5b89856e-4c7b-4998-aa8a-3619bc8eb598",
   "metadata": {},
   "outputs": [
    {
     "name": "stdout",
     "output_type": "stream",
     "text": [
      "Mean Squared Error in k-nn is: 0.10868174298375184\n"
     ]
    }
   ],
   "source": [
    "#let's try K-nn this time:\"\n",
    "\n",
    "from sklearn.neighbors import KNeighborsRegressor\n",
    "from sklearn.model_selection import train_test_split\n",
    "from sklearn.metrics import mean_squared_error\n",
    "\n",
    "X = df[['price', 'num_subscribers', 'num_reviews','num_lectures',\n",
    "        'content_duration']]\n",
    "y = df['Rating']\n",
    "X_train, X_test, y_train, y_test = train_test_split(X, y, test_size=0.2, random_state=42)\n",
    "knn_regressor = KNeighborsRegressor(n_neighbors=5)\n",
    "knn_regressor.fit(X_train, y_train)\n",
    "y_pred = knn_regressor.predict(X_test)\n",
    "mse = mean_squared_error(y_test, y_pred)\n",
    "print(\"Mean Squared Error in k-nn is:\", mse)"
   ]
  },
  {
   "cell_type": "code",
   "execution_count": 23,
   "id": "35c4491e-8013-42dd-915a-f2d8c2ccd690",
   "metadata": {},
   "outputs": [],
   "source": [
    "# --------------------num lectures dropped here-------------\n",
    "\n",
    "df.drop(['num_lectures'],axis=1,inplace=True)"
   ]
  },
  {
   "cell_type": "code",
   "execution_count": 24,
   "id": "bcc78e9d-e534-4935-8694-0fe3ab03fec9",
   "metadata": {},
   "outputs": [
    {
     "name": "stdout",
     "output_type": "stream",
     "text": [
      "K-nn Mean Squared Error: 0.11309351846381094\n",
      "knn r2 score -0.05011916361728708\n"
     ]
    }
   ],
   "source": [
    "#\"let's try k-nn now\"\n",
    "from sklearn.neighbors import KNeighborsRegressor\n",
    "from sklearn.model_selection import train_test_split\n",
    "from sklearn.metrics import mean_squared_error, r2_score\n",
    "\n",
    "X = df[['price', 'num_subscribers', 'num_reviews',\n",
    "        'content_duration']]\n",
    "y = df['Rating']\n",
    "\n",
    "X_train, X_test, y_train, y_test = train_test_split(X, y, test_size=0.2, random_state=42)\n",
    "\n",
    "knn_regressor = KNeighborsRegressor(n_neighbors=5)\n",
    "\n",
    "knn_regressor.fit(X_train, y_train)\n",
    "\n",
    "y_pred = knn_regressor.predict(X_test)\n",
    "\n",
    "mse = mean_squared_error(y_test, y_pred)\n",
    "print(\"K-nn Mean Squared Error:\", mse)\n",
    "print(\"knn r2 score\",r2_score(y_test, y_pred))"
   ]
  },
  {
   "cell_type": "code",
   "execution_count": 25,
   "id": "627df590-d024-44a6-98d5-5222b02e212a",
   "metadata": {},
   "outputs": [
    {
     "name": "stdout",
     "output_type": "stream",
     "text": [
      "regression score in multiple linear now is: 0.00182544735818857\n"
     ]
    }
   ],
   "source": [
    "#\"let's try multiple linear now...\"\n",
    "from sklearn.model_selection import train_test_split\n",
    "from sklearn.linear_model import LinearRegression\n",
    "import numpy as np\n",
    "X = df[['price', 'num_subscribers', 'num_reviews',\n",
    "        'content_duration']]\n",
    "y = df['Rating']\n",
    "# X=X.reshape(-1,1)\n",
    "X_train, X_test, y_train, y_test = train_test_split(X, y, test_size = 0.25)\n",
    "\n",
    "regr = LinearRegression()\n",
    "regr.fit(X_train, y_train)\n",
    "print(\"regression score in multiple linear now is:\",regr.score(X_test, y_test))"
   ]
  },
  {
   "cell_type": "code",
   "execution_count": 27,
   "id": "54c68b3e-0986-439f-a605-e6685b16e572",
   "metadata": {},
   "outputs": [
    {
     "name": "stdout",
     "output_type": "stream",
     "text": [
      "Mean Squared Error in XGBoost Regression: 0.11348436104664475\n"
     ]
    }
   ],
   "source": [
    "#lets try xgboost again now as we have dropped number of lectures\n",
    "from sklearn.model_selection import train_test_split\n",
    "from sklearn.metrics import mean_squared_error\n",
    "\n",
    "X = df[['price', 'num_subscribers', 'num_reviews', 'content_duration']]\n",
    "y = df['Rating']\n",
    "\n",
    "X_train, X_test, y_train, y_test = train_test_split(X, y, test_size=0.2)\n",
    "\n",
    "model = xgb.XGBRegressor()  # Use XGBRegressor for regression\n",
    "\n",
    "model.fit(X_train, y_train)\n",
    "\n",
    "predictions = model.predict(X_test)\n",
    "\n",
    "mse = mean_squared_error(y_test, predictions)\n",
    "print(\"Mean Squared Error in XGBoost Regression:\", mse)\n"
   ]
  }
 ],
 "metadata": {
  "kernelspec": {
   "display_name": "Python 3 (ipykernel)",
   "language": "python",
   "name": "python3"
  },
  "language_info": {
   "codemirror_mode": {
    "name": "ipython",
    "version": 3
   },
   "file_extension": ".py",
   "mimetype": "text/x-python",
   "name": "python",
   "nbconvert_exporter": "python",
   "pygments_lexer": "ipython3",
   "version": "3.8.6"
  }
 },
 "nbformat": 4,
 "nbformat_minor": 5
}
